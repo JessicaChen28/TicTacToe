{
 "cells": [
  {
   "cell_type": "code",
   "execution_count": null,
   "metadata": {},
   "outputs": [],
   "source": [
    "class tic_tac_toe():\n",
    "  def __init__(self) -> None:\n",
    "    self.board = [ ' ' for i in range(9)]\n",
    "    self.current_player = 'X'\n",
    "\n",
    "  def print_ttt_board(self):\n",
    "    for row in [self.board[i*3:(i+1)*3] for i in range (3):\n",
    "      print ('| ' + ' |'.join(row) + ' | ')\n",
    "\n",
    "  def check_winner(self):\n",
    "    winners = [(0,1,2), (3,4,5), (6,7,8), (0,3,6)]"
   ]
  }
 ],
 "metadata": {
  "language_info": {
   "name": "python"
  }
 },
 "nbformat": 4,
 "nbformat_minor": 2
}
